{
 "cells": [
  {
   "cell_type": "code",
   "execution_count": null,
   "metadata": {},
   "outputs": [],
   "source": [
    "%load_ext autoreload\n",
    "%autoreload 2"
   ]
  },
  {
   "cell_type": "markdown",
   "metadata": {},
   "source": [
    "# Data formatting"
   ]
  },
  {
   "cell_type": "code",
   "execution_count": 117,
   "metadata": {},
   "outputs": [],
   "source": [
    "import matplotlib.pyplot as plt\n",
    "from bson import ObjectId\n",
    "import pandas as pd\n",
    "import numpy as np\n",
    "import requests\n",
    "import json\n",
    "import os"
   ]
  },
  {
   "cell_type": "code",
   "execution_count": 118,
   "metadata": {},
   "outputs": [],
   "source": [
    "from modules.database_tables.Orders import Orders\n",
    "from modules.database_tables.Products import Products\n",
    "from modules.database_tables.TaskCards import TaskCards"
   ]
  },
  {
   "cell_type": "code",
   "execution_count": null,
   "metadata": {},
   "outputs": [],
   "source": [
    "history_days = 1000\n",
    "data_url = f\"https://premo.gshub.nl/api/dinand/orders/{history_days}\"\n",
    "data_url"
   ]
  },
  {
   "cell_type": "code",
   "execution_count": 120,
   "metadata": {},
   "outputs": [],
   "source": [
    "# with open(\"./data/dataset.json\", \"r\") as f:\n",
    "#     data = json.load(f)\n",
    "req = requests.get(data_url)\n",
    "data = json.loads(req.text)"
   ]
  },
  {
   "cell_type": "code",
   "execution_count": 121,
   "metadata": {},
   "outputs": [],
   "source": [
    "username = os.getenv('mongodb_user')\n",
    "password = os.getenv('mongodb_password')"
   ]
  },
  {
   "cell_type": "code",
   "execution_count": 122,
   "metadata": {},
   "outputs": [],
   "source": [
    "orders = Orders(username, password)\n",
    "products = Products(username, password)\n",
    "taskcards = TaskCards(username, password)"
   ]
  },
  {
   "cell_type": "code",
   "execution_count": 147,
   "metadata": {},
   "outputs": [],
   "source": [
    "# Assuming MongoDB collections 'orders', 'products', and 'taskcards' are available\n",
    "\n",
    "# Pre-fetch all existing orders and products IDs once\n",
    "existing_orders = {doc['order_id']: doc['_id'] for doc in orders.get_orders()}\n",
    "existing_products = {doc['order_id']: doc['_id'] for doc in products.get_products()}"
   ]
  },
  {
   "cell_type": "code",
   "execution_count": null,
   "metadata": {},
   "outputs": [],
   "source": [
    "for order in data:\n",
    "    if len(order['products']['task_cards']) == 0:\n",
    "        continue\n",
    "\n",
    "    # Normalize order and drop unnecessary product fields\n",
    "    orderDF = pd.json_normalize(order)\n",
    "    orderDF.drop(columns=[col for col in orderDF.columns if col.startswith(\"products.\")], inplace=True)\n",
    "    orderDF.rename(columns={'id': 'order_id'}, inplace=True)\n",
    "    orderDF['delivery_date'] = pd.to_datetime(orderDF['delivery_date'], errors='coerce')\n",
    "    orderDF['order_created_at'] = pd.to_datetime(orderDF['order_created_at'], errors='coerce')\n",
    "    \n",
    "    # Convert DataFrame to dictionary format\n",
    "    order_dict = orderDF.to_dict(orient='records')[0]\n",
    "    order_id = existing_orders.get(order_dict['order_id'])\n",
    "\n",
    "    if order_id is None:\n",
    "        # If order doesn't exist, insert it and store the inserted ID\n",
    "        order_id = orders.insert_order(order_dict)\n",
    "        existing_orders[order_dict['order_id']] = order_id\n",
    "    \n",
    "    # Prepare product details (excluding task_cards) and check if it already exists\n",
    "    products_dict = {'order_id': order_id, **{k: v for k, v in order['products'].items() if k != 'task_cards'}}\n",
    "    product_id = existing_products.get(order_id)\n",
    "\n",
    "    if product_id is None:\n",
    "        # If product doesn't exist, insert it and store the inserted ID\n",
    "        product_id = products.insert_product(products_dict)\n",
    "        existing_products[order_id] = product_id\n",
    "\n",
    "    # Normalize task cards, insert product_id and convert timestamps\n",
    "    tasksDF = pd.json_normalize(order['products'], 'task_cards')\n",
    "    tasksDF.insert(0, 'product_id', product_id)\n",
    "    tasksDF['task_time_start'] = pd.to_datetime(tasksDF['task_time_start'], errors='coerce')\n",
    "    tasksDF['task_time_end'] = pd.to_datetime(tasksDF['task_time_end'], errors='coerce')\n",
    "    \n",
    "    tasks_dict = tasksDF.to_dict(orient='records')\n",
    "    \n",
    "    # Insert task cards if not already present\n",
    "    if not taskcards.find({'product_id': product_id}):\n",
    "        taskcards.insert_taskcards(tasks_dict)"
   ]
  },
  {
   "cell_type": "code",
   "execution_count": null,
   "metadata": {},
   "outputs": [],
   "source": [
    "order_id = ObjectId('66f176004deaf93907993c62')\n",
    "order = orders.find({'_id': order_id})\n",
    "order"
   ]
  },
  {
   "cell_type": "code",
   "execution_count": null,
   "metadata": {},
   "outputs": [],
   "source": [
    "product = products.find({'order_id': order_id})\n",
    "product_id = ObjectId(product['_id'])\n",
    "product"
   ]
  },
  {
   "cell_type": "code",
   "execution_count": null,
   "metadata": {},
   "outputs": [],
   "source": [
    "tasks = taskcards.find_many({'product_id': product_id})\n",
    "tasks"
   ]
  }
 ],
 "metadata": {
  "kernelspec": {
   "display_name": ".venv",
   "language": "python",
   "name": "python3"
  },
  "language_info": {
   "codemirror_mode": {
    "name": "ipython",
    "version": 3
   },
   "file_extension": ".py",
   "mimetype": "text/x-python",
   "name": "python",
   "nbconvert_exporter": "python",
   "pygments_lexer": "ipython3",
   "version": "3.11.9"
  }
 },
 "nbformat": 4,
 "nbformat_minor": 2
}
