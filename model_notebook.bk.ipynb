{
 "cells": [
  {
   "cell_type": "code",
   "execution_count": 427,
   "metadata": {},
   "outputs": [
    {
     "name": "stdout",
     "output_type": "stream",
     "text": [
      "The autoreload extension is already loaded. To reload it, use:\n",
      "  %reload_ext autoreload\n"
     ]
    }
   ],
   "source": [
    "%load_ext autoreload\n",
    "%autoreload 2"
   ]
  },
  {
   "cell_type": "code",
   "execution_count": 428,
   "metadata": {},
   "outputs": [],
   "source": [
    "from utils.DBUpdater import DBUpdater\n",
    "DBUpdater().update()\n"
   ]
  },
  {
   "cell_type": "markdown",
   "metadata": {},
   "source": [
    "# Data Formatting"
   ]
  },
  {
   "cell_type": "code",
   "execution_count": 429,
   "metadata": {},
   "outputs": [
    {
     "data": {
      "text/plain": [
       "True"
      ]
     },
     "execution_count": 429,
     "metadata": {},
     "output_type": "execute_result"
    }
   ],
   "source": [
    "from urllib.parse import urljoin\n",
    "from dotenv import load_dotenv\n",
    "from datetime import *\n",
    "from bson import ObjectId\n",
    "import pandas as pd\n",
    "import numpy as np\n",
    "import requests\n",
    "import random\n",
    "import torch\n",
    "import json\n",
    "import os\n",
    "load_dotenv()"
   ]
  },
  {
   "cell_type": "code",
   "execution_count": 430,
   "metadata": {},
   "outputs": [],
   "source": [
    "username = os.getenv(\"mongodb_user\")\n",
    "password = os.getenv(\"mongodb_password\")"
   ]
  },
  {
   "cell_type": "code",
   "execution_count": 431,
   "metadata": {},
   "outputs": [],
   "source": [
    "from modules.database_tables import Database\n",
    "from modules.database_tables.Orders import Orders\n",
    "from modules.database_tables.Products import Products\n",
    "from modules.database_tables.TaskCards import TaskCards\n",
    "from modules.database_tables.ProductOperations import Operations"
   ]
  },
  {
   "cell_type": "code",
   "execution_count": 432,
   "metadata": {},
   "outputs": [],
   "source": [
    "class GSHubAPI:\n",
    "    def __init__(self) -> None:\n",
    "        self.domain: str = \"https://premo.gshub.nl/\"\n",
    "    \n",
    "    def learn_url(self, days_in_past: int) -> str:\n",
    "        return urljoin(self.domain, f\"api/dinand/learn/{days_in_past}\")\n",
    "    \n",
    "    @property\n",
    "    def play_url(self) -> str:\n",
    "        return urljoin(self.domain, \"api/dinand/play/\")"
   ]
  },
  {
   "cell_type": "code",
   "execution_count": 433,
   "metadata": {},
   "outputs": [],
   "source": [
    "play_url = GSHubAPI().play_url"
   ]
  },
  {
   "cell_type": "code",
   "execution_count": 434,
   "metadata": {},
   "outputs": [],
   "source": [
    "db = Database(username, password)\n",
    "orders = Orders(username, password)\n",
    "products = Products(username, password)\n",
    "taskcards = TaskCards(username, password)\n",
    "operations = Operations(username, password)"
   ]
  },
  {
   "cell_type": "code",
   "execution_count": 435,
   "metadata": {},
   "outputs": [],
   "source": [
    "def safe_to_datetime(x):\n",
    "    try:\n",
    "        return pd.to_datetime(x, format='%Y-%m-%dT%H:%M:%S.%fZ')\n",
    "    except (ValueError, TypeError):\n",
    "        return x"
   ]
  },
  {
   "cell_type": "code",
   "execution_count": 436,
   "metadata": {},
   "outputs": [
    {
     "name": "stdout",
     "output_type": "stream",
     "text": [
      " \n",
      "| ->\ttaskcard_id - task_title - task_duration - start_at - end_at - sort_order - workspace - product_id - task_duration_full - operation_id - material - color - _id - order_id - delivery_date - order_created_at \n",
      "| ->\t(927, 16)\n"
     ]
    }
   ],
   "source": [
    "# Fetch all orders, products, taskcards, and operations in one go\n",
    "all_orders = orders.get_all()\n",
    "all_products = products.find_many({})\n",
    "all_taskcards = taskcards.find_many({})\n",
    "all_operations = operations.find_many({})\n",
    "\n",
    "# Convert to DataFrames\n",
    "ordersDF = pd.DataFrame(all_orders)\n",
    "productsDF = pd.DataFrame(all_products).rename(columns={\"_id\": \"prod_id\"})\n",
    "taskcardsDF = pd.DataFrame(all_taskcards).rename(columns={\"_id\": \"taskcard_id\"})\n",
    "operationsDF = pd.DataFrame(all_operations).rename(columns={\"_id\": \"operation_id\"})\n",
    "\n",
    "# Merge products with orders\n",
    "productsDF = productsDF.merge(ordersDF, left_on=\"order_id\", right_on=\"_id\", suffixes=('', '_order'))\n",
    "\n",
    "# Correct the order_id in productsDF to match the order_id from ordersDF\n",
    "productsDF = productsDF.drop(columns=['order_id'], axis=1).rename(columns={\"order_id_order\": \"order_id\"})\n",
    "\n",
    "# Merge taskcards with operations\n",
    "taskcardsDF = taskcardsDF.merge(\n",
    "    operationsDF[['product_id', 'sort_order', 'task_duration']],\n",
    "    on=['product_id', 'sort_order'],\n",
    "    suffixes=('', '_new')\n",
    ")\n",
    "taskcardsDF['task_duration_full'] = taskcardsDF['task_duration_new']\n",
    "taskcardsDF = taskcardsDF.drop(columns=['task_duration_new'])\n",
    "taskcardsDF['taskcard_id'] = taskcardsDF['taskcard_id']\n",
    "taskcardsDF['operation_id'] = operationsDF['operation_id']\n",
    "\n",
    "\n",
    "\n",
    "# Rank and adjust sort_order\n",
    "taskcardsDF[\"sort_order\"] = taskcardsDF.groupby(\"product_id\")[\"sort_order\"].rank(method=\"dense\") - 1\n",
    "taskcardsDF[\"sort_order\"] = taskcardsDF[\"sort_order\"].astype(int)\n",
    "\n",
    "# Merge taskcards with products\n",
    "dataDF = pd.merge(taskcardsDF, productsDF, left_on=\"product_id\", right_on=\"prod_id\")\n",
    "dataDF = dataDF.drop(columns=[\"prod_id\"], axis=1)\n",
    "\n",
    "# Apply safe_to_datetime to relevant columns\n",
    "dataDF = dataDF.map(safe_to_datetime)\n",
    "\n",
    "# add taskcard_id and operation_id to dataDF \n",
    "\n",
    "print(\" \\n| ->\\t\".join(map(str, list([f\" \\n| ->\\t{' - '.join(dataDF.columns)}\", dataDF.shape]))))"
   ]
  },
  {
   "cell_type": "code",
   "execution_count": 437,
   "metadata": {},
   "outputs": [
    {
     "data": {
      "text/html": [
       "<div>\n",
       "<style scoped>\n",
       "    .dataframe tbody tr th:only-of-type {\n",
       "        vertical-align: middle;\n",
       "    }\n",
       "\n",
       "    .dataframe tbody tr th {\n",
       "        vertical-align: top;\n",
       "    }\n",
       "\n",
       "    .dataframe thead th {\n",
       "        text-align: right;\n",
       "    }\n",
       "</style>\n",
       "<table border=\"1\" class=\"dataframe\">\n",
       "  <thead>\n",
       "    <tr style=\"text-align: right;\">\n",
       "      <th></th>\n",
       "      <th>taskcard_id</th>\n",
       "      <th>task_title</th>\n",
       "      <th>task_duration</th>\n",
       "      <th>start_at</th>\n",
       "      <th>end_at</th>\n",
       "      <th>sort_order</th>\n",
       "      <th>workspace</th>\n",
       "      <th>product_id</th>\n",
       "      <th>task_duration_full</th>\n",
       "      <th>operation_id</th>\n",
       "      <th>material</th>\n",
       "      <th>color</th>\n",
       "      <th>_id</th>\n",
       "      <th>order_id</th>\n",
       "      <th>delivery_date</th>\n",
       "      <th>order_created_at</th>\n",
       "    </tr>\n",
       "  </thead>\n",
       "  <tbody>\n",
       "    <tr>\n",
       "      <th>0</th>\n",
       "      <td>66fa6dd5f13c44fa6af4d6db</td>\n",
       "      <td>Vullen</td>\n",
       "      <td>3600</td>\n",
       "      <td>2024-07-01 09:00:00</td>\n",
       "      <td>2024-07-01 10:00:00</td>\n",
       "      <td>0</td>\n",
       "      <td>Soweco</td>\n",
       "      <td>66fa6dcdf13c44fa6af4d585</td>\n",
       "      <td>3600</td>\n",
       "      <td>66fa6dd8f13c44fa6af4da7a</td>\n",
       "      <td>Katoenen draagtas gekleurd</td>\n",
       "      <td>06</td>\n",
       "      <td>66fa6dcdf13c44fa6af4d584</td>\n",
       "      <td>1</td>\n",
       "      <td>2024-07-13 14:28:51</td>\n",
       "      <td>2024-07-08 14:28:51</td>\n",
       "    </tr>\n",
       "    <tr>\n",
       "      <th>1</th>\n",
       "      <td>66fa6dd5f13c44fa6af4d6dc</td>\n",
       "      <td>Tampon drukken (TB)</td>\n",
       "      <td>1440</td>\n",
       "      <td>2024-07-08 09:00:00</td>\n",
       "      <td>2024-07-08 09:24:00</td>\n",
       "      <td>1</td>\n",
       "      <td>T2 1|2|3</td>\n",
       "      <td>66fa6dcdf13c44fa6af4d585</td>\n",
       "      <td>1440</td>\n",
       "      <td>66fa6dd8f13c44fa6af4da7b</td>\n",
       "      <td>Katoenen draagtas gekleurd</td>\n",
       "      <td>06</td>\n",
       "      <td>66fa6dcdf13c44fa6af4d584</td>\n",
       "      <td>1</td>\n",
       "      <td>2024-07-13 14:28:51</td>\n",
       "      <td>2024-07-08 14:28:51</td>\n",
       "    </tr>\n",
       "  </tbody>\n",
       "</table>\n",
       "</div>"
      ],
      "text/plain": [
       "                taskcard_id           task_title  task_duration  \\\n",
       "0  66fa6dd5f13c44fa6af4d6db               Vullen           3600   \n",
       "1  66fa6dd5f13c44fa6af4d6dc  Tampon drukken (TB)           1440   \n",
       "\n",
       "             start_at              end_at  sort_order workspace  \\\n",
       "0 2024-07-01 09:00:00 2024-07-01 10:00:00           0    Soweco   \n",
       "1 2024-07-08 09:00:00 2024-07-08 09:24:00           1  T2 1|2|3   \n",
       "\n",
       "                 product_id  task_duration_full              operation_id  \\\n",
       "0  66fa6dcdf13c44fa6af4d585                3600  66fa6dd8f13c44fa6af4da7a   \n",
       "1  66fa6dcdf13c44fa6af4d585                1440  66fa6dd8f13c44fa6af4da7b   \n",
       "\n",
       "                     material color                       _id  order_id  \\\n",
       "0  Katoenen draagtas gekleurd    06  66fa6dcdf13c44fa6af4d584         1   \n",
       "1  Katoenen draagtas gekleurd    06  66fa6dcdf13c44fa6af4d584         1   \n",
       "\n",
       "        delivery_date    order_created_at  \n",
       "0 2024-07-13 14:28:51 2024-07-08 14:28:51  \n",
       "1 2024-07-13 14:28:51 2024-07-08 14:28:51  "
      ]
     },
     "execution_count": 437,
     "metadata": {},
     "output_type": "execute_result"
    }
   ],
   "source": [
    "dataDF.head(2)"
   ]
  },
  {
   "cell_type": "code",
   "execution_count": 438,
   "metadata": {},
   "outputs": [],
   "source": [
    "def safe_to_timestamp(x):\n",
    "    try:\n",
    "        if isinstance(x, datetime):\n",
    "            return x.replace(tzinfo=UTC).timestamp()\n",
    "        return x\n",
    "    except (ValueError, TypeError):\n",
    "        return x"
   ]
  },
  {
   "cell_type": "code",
   "execution_count": 444,
   "metadata": {},
   "outputs": [
    {
     "data": {
      "text/html": [
       "<div>\n",
       "<style scoped>\n",
       "    .dataframe tbody tr th:only-of-type {\n",
       "        vertical-align: middle;\n",
       "    }\n",
       "\n",
       "    .dataframe tbody tr th {\n",
       "        vertical-align: top;\n",
       "    }\n",
       "\n",
       "    .dataframe thead th {\n",
       "        text-align: right;\n",
       "    }\n",
       "</style>\n",
       "<table border=\"1\" class=\"dataframe\">\n",
       "  <thead>\n",
       "    <tr style=\"text-align: right;\">\n",
       "      <th></th>\n",
       "      <th>order_id</th>\n",
       "      <th>start</th>\n",
       "      <th>end</th>\n",
       "    </tr>\n",
       "  </thead>\n",
       "  <tbody>\n",
       "    <tr>\n",
       "      <th>0</th>\n",
       "      <td>1</td>\n",
       "      <td>1.719824e+09</td>\n",
       "      <td>1.719828e+09</td>\n",
       "    </tr>\n",
       "    <tr>\n",
       "      <th>1</th>\n",
       "      <td>1</td>\n",
       "      <td>1.720429e+09</td>\n",
       "      <td>1.720431e+09</td>\n",
       "    </tr>\n",
       "    <tr>\n",
       "      <th>2</th>\n",
       "      <td>1</td>\n",
       "      <td>1.720688e+09</td>\n",
       "      <td>1.720689e+09</td>\n",
       "    </tr>\n",
       "    <tr>\n",
       "      <th>3</th>\n",
       "      <td>1</td>\n",
       "      <td>1.720775e+09</td>\n",
       "      <td>1.720776e+09</td>\n",
       "    </tr>\n",
       "    <tr>\n",
       "      <th>4</th>\n",
       "      <td>3</td>\n",
       "      <td>1.720602e+09</td>\n",
       "      <td>1.720608e+09</td>\n",
       "    </tr>\n",
       "  </tbody>\n",
       "</table>\n",
       "</div>"
      ],
      "text/plain": [
       "   order_id         start           end\n",
       "0         1  1.719824e+09  1.719828e+09\n",
       "1         1  1.720429e+09  1.720431e+09\n",
       "2         1  1.720688e+09  1.720689e+09\n",
       "3         1  1.720775e+09  1.720776e+09\n",
       "4         3  1.720602e+09  1.720608e+09"
      ]
     },
     "execution_count": 444,
     "metadata": {},
     "output_type": "execute_result"
    }
   ],
   "source": [
    "outputDF = dataDF.copy()[['order_id', 'start_at', 'end_at']]\n",
    "outputDF = outputDF.rename(columns={\"start_at\": \"start\", \"end_at\": \"end\"})\n",
    "outputDF = outputDF.map(safe_to_timestamp)\n",
    "outputDF.head()"
   ]
  },
  {
   "cell_type": "code",
   "execution_count": null,
   "metadata": {},
   "outputs": [],
   "source": []
  },
  {
   "cell_type": "markdown",
   "metadata": {},
   "source": [
    "# Model"
   ]
  }
 ],
 "metadata": {
  "kernelspec": {
   "display_name": ".venv",
   "language": "python",
   "name": "python3"
  },
  "language_info": {
   "codemirror_mode": {
    "name": "ipython",
    "version": 3
   },
   "file_extension": ".py",
   "mimetype": "text/x-python",
   "name": "python",
   "nbconvert_exporter": "python",
   "pygments_lexer": "ipython3",
   "version": "3.11.9"
  }
 },
 "nbformat": 4,
 "nbformat_minor": 2
}
