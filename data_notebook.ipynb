{
 "cells": [
  {
   "cell_type": "code",
   "execution_count": 324,
   "metadata": {},
   "outputs": [
    {
     "name": "stdout",
     "output_type": "stream",
     "text": [
      "The autoreload extension is already loaded. To reload it, use:\n",
      "  %reload_ext autoreload\n"
     ]
    }
   ],
   "source": [
    "%load_ext autoreload\n",
    "%autoreload 2"
   ]
  },
  {
   "cell_type": "code",
   "execution_count": 325,
   "metadata": {},
   "outputs": [],
   "source": [
    "from utils.UpdateDatabase import *"
   ]
  },
  {
   "cell_type": "markdown",
   "metadata": {},
   "source": [
    "# Data Formatting"
   ]
  },
  {
   "cell_type": "code",
   "execution_count": 326,
   "metadata": {},
   "outputs": [
    {
     "data": {
      "text/plain": [
       "True"
      ]
     },
     "execution_count": 326,
     "metadata": {},
     "output_type": "execute_result"
    }
   ],
   "source": [
    "from sklearn.preprocessing import OneHotEncoder\n",
    "from sklearn.compose import ColumnTransformer\n",
    "from sklearn.preprocessing import MinMaxScaler\n",
    "from urllib.parse import urljoin\n",
    "from dotenv import load_dotenv\n",
    "from datetime import *\n",
    "from bson import ObjectId\n",
    "import pandas as pd\n",
    "import numpy as np\n",
    "import requests\n",
    "import random\n",
    "import torch\n",
    "import json\n",
    "import os\n",
    "load_dotenv()"
   ]
  },
  {
   "cell_type": "code",
   "execution_count": 327,
   "metadata": {},
   "outputs": [],
   "source": [
    "from utils.FlattenData import *\n",
    "from modules.PremoAPI import *\n",
    "from utils.SafeDataConverters import *"
   ]
  },
  {
   "cell_type": "code",
   "execution_count": 328,
   "metadata": {},
   "outputs": [],
   "source": [
    "api = PremoAPI()"
   ]
  },
  {
   "cell_type": "code",
   "execution_count": 329,
   "metadata": {},
   "outputs": [],
   "source": [
    "username = os.getenv(\"mongodb_user\")\n",
    "password = os.getenv(\"mongodb_password\")"
   ]
  },
  {
   "cell_type": "code",
   "execution_count": 330,
   "metadata": {},
   "outputs": [],
   "source": [
    "from modules.database import Database\n",
    "db = Database(username, password)"
   ]
  },
  {
   "cell_type": "code",
   "execution_count": 331,
   "metadata": {},
   "outputs": [],
   "source": [
    "play_data: list[dict] = api.play_data"
   ]
  },
  {
   "cell_type": "code",
   "execution_count": 332,
   "metadata": {},
   "outputs": [],
   "source": [
    "flat_out = flatten_output(db.to_json())\n",
    "flat_in = flatten_input(db.to_json())"
   ]
  },
  {
   "cell_type": "code",
   "execution_count": 333,
   "metadata": {},
   "outputs": [
    {
     "data": {
      "text/html": [
       "<div>\n",
       "<style scoped>\n",
       "    .dataframe tbody tr th:only-of-type {\n",
       "        vertical-align: middle;\n",
       "    }\n",
       "\n",
       "    .dataframe tbody tr th {\n",
       "        vertical-align: top;\n",
       "    }\n",
       "\n",
       "    .dataframe thead th {\n",
       "        text-align: right;\n",
       "    }\n",
       "</style>\n",
       "<table border=\"1\" class=\"dataframe\">\n",
       "  <thead>\n",
       "    <tr style=\"text-align: right;\">\n",
       "      <th></th>\n",
       "      <th>order_id</th>\n",
       "      <th>delivery_date</th>\n",
       "      <th>order_created_at</th>\n",
       "      <th>product_id</th>\n",
       "      <th>material</th>\n",
       "      <th>color</th>\n",
       "      <th>task_title</th>\n",
       "      <th>task_duration</th>\n",
       "      <th>sort_order</th>\n",
       "      <th>workspace</th>\n",
       "    </tr>\n",
       "  </thead>\n",
       "  <tbody>\n",
       "    <tr>\n",
       "      <th>3</th>\n",
       "      <td>1</td>\n",
       "      <td>2024-07-13 14:28:51</td>\n",
       "      <td>2024-07-08 14:28:51</td>\n",
       "      <td>67053bafda93609bc1305297</td>\n",
       "      <td>Katoenen draagtas gekleurd</td>\n",
       "      <td>06</td>\n",
       "      <td>Vullen</td>\n",
       "      <td>3600</td>\n",
       "      <td>0</td>\n",
       "      <td>Soweco</td>\n",
       "    </tr>\n",
       "    <tr>\n",
       "      <th>2</th>\n",
       "      <td>1</td>\n",
       "      <td>2024-07-13 14:28:51</td>\n",
       "      <td>2024-07-08 14:28:51</td>\n",
       "      <td>67053bafda93609bc1305297</td>\n",
       "      <td>Katoenen draagtas gekleurd</td>\n",
       "      <td>06</td>\n",
       "      <td>Tampon drukken (TB)</td>\n",
       "      <td>1440</td>\n",
       "      <td>1</td>\n",
       "      <td>T2 1|2|3</td>\n",
       "    </tr>\n",
       "    <tr>\n",
       "      <th>0</th>\n",
       "      <td>1</td>\n",
       "      <td>2024-07-13 14:28:51</td>\n",
       "      <td>2024-07-08 14:28:51</td>\n",
       "      <td>67053bafda93609bc1305297</td>\n",
       "      <td>Katoenen draagtas gekleurd</td>\n",
       "      <td>06</td>\n",
       "      <td>Inpakken</td>\n",
       "      <td>180</td>\n",
       "      <td>2</td>\n",
       "      <td>Inpak</td>\n",
       "    </tr>\n",
       "    <tr>\n",
       "      <th>1</th>\n",
       "      <td>1</td>\n",
       "      <td>2024-07-13 14:28:51</td>\n",
       "      <td>2024-07-08 14:28:51</td>\n",
       "      <td>67053bafda93609bc1305297</td>\n",
       "      <td>Katoenen draagtas gekleurd</td>\n",
       "      <td>06</td>\n",
       "      <td>Expeditie</td>\n",
       "      <td>720</td>\n",
       "      <td>3</td>\n",
       "      <td>Expeditie</td>\n",
       "    </tr>\n",
       "    <tr>\n",
       "      <th>6</th>\n",
       "      <td>3</td>\n",
       "      <td>2024-07-24 00:00:00</td>\n",
       "      <td>2024-07-09 08:11:10</td>\n",
       "      <td>67053bafda93609bc1305299</td>\n",
       "      <td>Avant-knijper</td>\n",
       "      <td>13</td>\n",
       "      <td>Vullen</td>\n",
       "      <td>6120</td>\n",
       "      <td>0</td>\n",
       "      <td>Soweco</td>\n",
       "    </tr>\n",
       "  </tbody>\n",
       "</table>\n",
       "</div>"
      ],
      "text/plain": [
       "   order_id       delivery_date    order_created_at                product_id  \\\n",
       "3         1 2024-07-13 14:28:51 2024-07-08 14:28:51  67053bafda93609bc1305297   \n",
       "2         1 2024-07-13 14:28:51 2024-07-08 14:28:51  67053bafda93609bc1305297   \n",
       "0         1 2024-07-13 14:28:51 2024-07-08 14:28:51  67053bafda93609bc1305297   \n",
       "1         1 2024-07-13 14:28:51 2024-07-08 14:28:51  67053bafda93609bc1305297   \n",
       "6         3 2024-07-24 00:00:00 2024-07-09 08:11:10  67053bafda93609bc1305299   \n",
       "\n",
       "                     material color           task_title  task_duration  \\\n",
       "3  Katoenen draagtas gekleurd    06               Vullen           3600   \n",
       "2  Katoenen draagtas gekleurd    06  Tampon drukken (TB)           1440   \n",
       "0  Katoenen draagtas gekleurd    06             Inpakken            180   \n",
       "1  Katoenen draagtas gekleurd    06            Expeditie            720   \n",
       "6               Avant-knijper    13               Vullen           6120   \n",
       "\n",
       "   sort_order  workspace  \n",
       "3           0     Soweco  \n",
       "2           1   T2 1|2|3  \n",
       "0           2      Inpak  \n",
       "1           3  Expeditie  \n",
       "6           0     Soweco  "
      ]
     },
     "execution_count": 333,
     "metadata": {},
     "output_type": "execute_result"
    }
   ],
   "source": [
    "inp_df = pd.DataFrame(flat_in).sort_values(by=['order_id', 'sort_order'], ascending=True).convert_dtypes()\n",
    "inp_df['sort_order'] = inp_df.groupby(['order_id', 'product_id'])['sort_order'].transform(lambda x: x.rank(method='dense').astype(int) - 1)\n",
    "inp_df = inp_df.map(safe_to_datetime)\n",
    "inp_df.head()"
   ]
  },
  {
   "cell_type": "code",
   "execution_count": 334,
   "metadata": {},
   "outputs": [
    {
     "data": {
      "text/html": [
       "<div>\n",
       "<style scoped>\n",
       "    .dataframe tbody tr th:only-of-type {\n",
       "        vertical-align: middle;\n",
       "    }\n",
       "\n",
       "    .dataframe tbody tr th {\n",
       "        vertical-align: top;\n",
       "    }\n",
       "\n",
       "    .dataframe thead th {\n",
       "        text-align: right;\n",
       "    }\n",
       "</style>\n",
       "<table border=\"1\" class=\"dataframe\">\n",
       "  <thead>\n",
       "    <tr style=\"text-align: right;\">\n",
       "      <th></th>\n",
       "      <th>order_id</th>\n",
       "      <th>delivery_date</th>\n",
       "      <th>order_created_at</th>\n",
       "      <th>product_id</th>\n",
       "      <th>material</th>\n",
       "      <th>color</th>\n",
       "      <th>task_title</th>\n",
       "      <th>task_duration</th>\n",
       "      <th>sort_order</th>\n",
       "      <th>workspace</th>\n",
       "      <th>start_at</th>\n",
       "      <th>end_at</th>\n",
       "    </tr>\n",
       "  </thead>\n",
       "  <tbody>\n",
       "    <tr>\n",
       "      <th>3</th>\n",
       "      <td>1</td>\n",
       "      <td>2024-07-13 14:28:51</td>\n",
       "      <td>2024-07-08 14:28:51</td>\n",
       "      <td>67053bafda93609bc1305297</td>\n",
       "      <td>Katoenen draagtas gekleurd</td>\n",
       "      <td>06</td>\n",
       "      <td>Vullen</td>\n",
       "      <td>3600</td>\n",
       "      <td>0</td>\n",
       "      <td>Soweco</td>\n",
       "      <td>2024-07-01 09:00:00</td>\n",
       "      <td>2024-07-01 10:00:00</td>\n",
       "    </tr>\n",
       "    <tr>\n",
       "      <th>2</th>\n",
       "      <td>1</td>\n",
       "      <td>2024-07-13 14:28:51</td>\n",
       "      <td>2024-07-08 14:28:51</td>\n",
       "      <td>67053bafda93609bc1305297</td>\n",
       "      <td>Katoenen draagtas gekleurd</td>\n",
       "      <td>06</td>\n",
       "      <td>Tampon drukken (TB)</td>\n",
       "      <td>1440</td>\n",
       "      <td>1</td>\n",
       "      <td>T2 1|2|3</td>\n",
       "      <td>2024-07-08 09:00:00</td>\n",
       "      <td>2024-07-08 09:24:00</td>\n",
       "    </tr>\n",
       "    <tr>\n",
       "      <th>0</th>\n",
       "      <td>1</td>\n",
       "      <td>2024-07-13 14:28:51</td>\n",
       "      <td>2024-07-08 14:28:51</td>\n",
       "      <td>67053bafda93609bc1305297</td>\n",
       "      <td>Katoenen draagtas gekleurd</td>\n",
       "      <td>06</td>\n",
       "      <td>Inpakken</td>\n",
       "      <td>180</td>\n",
       "      <td>2</td>\n",
       "      <td>Inpak</td>\n",
       "      <td>2024-07-11 09:00:00</td>\n",
       "      <td>2024-07-11 09:03:00</td>\n",
       "    </tr>\n",
       "    <tr>\n",
       "      <th>1</th>\n",
       "      <td>1</td>\n",
       "      <td>2024-07-13 14:28:51</td>\n",
       "      <td>2024-07-08 14:28:51</td>\n",
       "      <td>67053bafda93609bc1305297</td>\n",
       "      <td>Katoenen draagtas gekleurd</td>\n",
       "      <td>06</td>\n",
       "      <td>Expeditie</td>\n",
       "      <td>720</td>\n",
       "      <td>3</td>\n",
       "      <td>Expeditie</td>\n",
       "      <td>2024-07-12 09:00:00</td>\n",
       "      <td>2024-07-12 09:12:00</td>\n",
       "    </tr>\n",
       "    <tr>\n",
       "      <th>6</th>\n",
       "      <td>3</td>\n",
       "      <td>2024-07-24 00:00:00</td>\n",
       "      <td>2024-07-09 08:11:10</td>\n",
       "      <td>67053bafda93609bc1305299</td>\n",
       "      <td>Avant-knijper</td>\n",
       "      <td>13</td>\n",
       "      <td>Vullen</td>\n",
       "      <td>6120</td>\n",
       "      <td>0</td>\n",
       "      <td>Soweco</td>\n",
       "      <td>2024-07-10 09:00:00</td>\n",
       "      <td>2024-07-10 10:42:00</td>\n",
       "    </tr>\n",
       "  </tbody>\n",
       "</table>\n",
       "</div>"
      ],
      "text/plain": [
       "   order_id       delivery_date    order_created_at                product_id  \\\n",
       "3         1 2024-07-13 14:28:51 2024-07-08 14:28:51  67053bafda93609bc1305297   \n",
       "2         1 2024-07-13 14:28:51 2024-07-08 14:28:51  67053bafda93609bc1305297   \n",
       "0         1 2024-07-13 14:28:51 2024-07-08 14:28:51  67053bafda93609bc1305297   \n",
       "1         1 2024-07-13 14:28:51 2024-07-08 14:28:51  67053bafda93609bc1305297   \n",
       "6         3 2024-07-24 00:00:00 2024-07-09 08:11:10  67053bafda93609bc1305299   \n",
       "\n",
       "                     material color           task_title  task_duration  \\\n",
       "3  Katoenen draagtas gekleurd    06               Vullen           3600   \n",
       "2  Katoenen draagtas gekleurd    06  Tampon drukken (TB)           1440   \n",
       "0  Katoenen draagtas gekleurd    06             Inpakken            180   \n",
       "1  Katoenen draagtas gekleurd    06            Expeditie            720   \n",
       "6               Avant-knijper    13               Vullen           6120   \n",
       "\n",
       "   sort_order  workspace            start_at              end_at  \n",
       "3           0     Soweco 2024-07-01 09:00:00 2024-07-01 10:00:00  \n",
       "2           1   T2 1|2|3 2024-07-08 09:00:00 2024-07-08 09:24:00  \n",
       "0           2      Inpak 2024-07-11 09:00:00 2024-07-11 09:03:00  \n",
       "1           3  Expeditie 2024-07-12 09:00:00 2024-07-12 09:12:00  \n",
       "6           0     Soweco 2024-07-10 09:00:00 2024-07-10 10:42:00  "
      ]
     },
     "execution_count": 334,
     "metadata": {},
     "output_type": "execute_result"
    }
   ],
   "source": [
    "out_df = pd.DataFrame(flat_out).sort_values(by=['order_id', 'sort_order'], ascending=True).convert_dtypes()\n",
    "out_df['sort_order'] = out_df.groupby(['order_id', 'product_id'])['sort_order'].transform(lambda x: x.rank(method='dense').astype(int) - 1)\n",
    "out_df = out_df.map(safe_to_datetime)\n",
    "out_df.head()"
   ]
  },
  {
   "cell_type": "code",
   "execution_count": null,
   "metadata": {},
   "outputs": [],
   "source": []
  }
 ],
 "metadata": {
  "kernelspec": {
   "display_name": "Python 3",
   "language": "python",
   "name": "python3"
  },
  "language_info": {
   "codemirror_mode": {
    "name": "ipython",
    "version": 3
   },
   "file_extension": ".py",
   "mimetype": "text/x-python",
   "name": "python",
   "nbconvert_exporter": "python",
   "pygments_lexer": "ipython3",
   "version": "3.11.9"
  }
 },
 "nbformat": 4,
 "nbformat_minor": 2
}
