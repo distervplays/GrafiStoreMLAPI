{
 "cells": [
  {
   "cell_type": "code",
   "execution_count": 1,
   "metadata": {},
   "outputs": [],
   "source": [
    "%load_ext autoreload\n",
    "%autoreload 2"
   ]
  },
  {
   "cell_type": "code",
   "execution_count": 36,
   "metadata": {},
   "outputs": [],
   "source": [
    "from utils.DBUpdater import DBUpdater\n",
    "DBUpdater().update()\n"
   ]
  },
  {
   "cell_type": "markdown",
   "metadata": {},
   "source": [
    "# Data Formatting"
   ]
  },
  {
   "cell_type": "code",
   "execution_count": null,
   "metadata": {},
   "outputs": [],
   "source": [
    "from urllib.parse import urljoin\n",
    "from dotenv import load_dotenv\n",
    "from bson import ObjectId\n",
    "import pandas as pd\n",
    "import numpy as np\n",
    "import requests\n",
    "import json\n",
    "import os\n",
    "load_dotenv()"
   ]
  },
  {
   "cell_type": "code",
   "execution_count": 3,
   "metadata": {},
   "outputs": [],
   "source": [
    "from modules.database_tables import Database\n",
    "from modules.database_tables.Orders import Orders\n",
    "from modules.database_tables.Products import Products\n",
    "from modules.database_tables.TaskCards import TaskCards\n",
    "from modules.database_tables.ProductOperations import Operations"
   ]
  },
  {
   "cell_type": "code",
   "execution_count": 4,
   "metadata": {},
   "outputs": [],
   "source": [
    "username = os.getenv(\"mongodb_user\")\n",
    "password = os.getenv(\"mongodb_password\")"
   ]
  },
  {
   "cell_type": "code",
   "execution_count": 5,
   "metadata": {},
   "outputs": [],
   "source": [
    "class GSHubAPI:\n",
    "    def __init__(self) -> None:\n",
    "        self.domain: str = \"https://premo.gshub.nl/\"\n",
    "    \n",
    "    def learn_url(self, days_in_past: int) -> str:\n",
    "        return urljoin(self.domain, f\"api/dinand/learn/{days_in_past}\")\n",
    "    \n",
    "    @property\n",
    "    def play_url(self) -> str:\n",
    "        return urljoin(self.domain, \"api/dinand/play/\")"
   ]
  },
  {
   "cell_type": "code",
   "execution_count": 9,
   "metadata": {},
   "outputs": [],
   "source": [
    "play_url = GSHubAPI().play_url"
   ]
  },
  {
   "cell_type": "code",
   "execution_count": 14,
   "metadata": {},
   "outputs": [],
   "source": [
    "db = Database(username, password)\n",
    "orders = Orders(username, password)\n",
    "products = Products(username, password)\n",
    "taskcards = TaskCards(username, password)\n",
    "operations = Operations(username, password)"
   ]
  },
  {
   "cell_type": "code",
   "execution_count": 59,
   "metadata": {},
   "outputs": [],
   "source": [
    "input_dict: list[dict] = []\n",
    "output_dict: list[dict] = []\n",
    "\n",
    "for order in orders.get_all():\n",
    "    order_id = order[\"_id\"]\n",
    "    \n",
    "    products_arr = products.find_many({\"order_id\": order_id})\n",
    "    product_ids = [prod[\"_id\"] for prod in products_arr]\n",
    "    \n",
    "    taskcards_arr = taskcards.find_many({\"product_id\": {\"$in\": product_ids}})\n",
    "    operations_arr = operations.find_many({\"taskcard_id\": {\"$in\": [tc[\"_id\"] for tc in taskcards_arr]}})\n",
    "    \n",
    "    for tc in taskcards_arr:\n",
    "        data = {k: v for k, v in order.items() if k != \"_id\"}\n",
    "        data.update({f\"{k}\": v for k, v in products_arr[0].items() if not k in [\"_id\", \"order_id\"]})\n",
    "        data.update({f\"taskcard.{k}\": v for k, v in tc.items() if not k in [\"_id\", 'product_id']})\n",
    "        output_dict.append(data)"
   ]
  },
  {
   "cell_type": "code",
   "execution_count": 60,
   "metadata": {},
   "outputs": [],
   "source": [
    "def safe_to_datetime(x):\n",
    "    try:\n",
    "        return pd.to_datetime(x, format='%Y-%m-%dT%H:%M:%S.%fZ')\n",
    "    except (ValueError, TypeError):\n",
    "        return x"
   ]
  },
  {
   "cell_type": "code",
   "execution_count": null,
   "metadata": {},
   "outputs": [],
   "source": [
    "outputDF = pd.DataFrame(output_dict)\n",
    "outputDF = outputDF.map(lambda x: safe_to_datetime(x) if isinstance(x, str) else x)\n",
    "outputDF"
   ]
  },
  {
   "cell_type": "code",
   "execution_count": null,
   "metadata": {},
   "outputs": [],
   "source": []
  }
 ],
 "metadata": {
  "kernelspec": {
   "display_name": ".venv",
   "language": "python",
   "name": "python3"
  },
  "language_info": {
   "codemirror_mode": {
    "name": "ipython",
    "version": 3
   },
   "file_extension": ".py",
   "mimetype": "text/x-python",
   "name": "python",
   "nbconvert_exporter": "python",
   "pygments_lexer": "ipython3",
   "version": "3.11.9"
  }
 },
 "nbformat": 4,
 "nbformat_minor": 2
}
