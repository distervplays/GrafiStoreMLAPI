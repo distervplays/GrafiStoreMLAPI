{
 "cells": [
  {
   "cell_type": "code",
   "execution_count": 3,
   "metadata": {},
   "outputs": [],
   "source": [
    "from datetime import datetime"
   ]
  },
  {
   "cell_type": "code",
   "execution_count": 14,
   "metadata": {},
   "outputs": [],
   "source": [
    "durations = [5400, 12600]\n",
    "dates = [\n",
    "    {\n",
    "        'start': '2024-07-22T15:30:00.000000Z', \n",
    "        'end': '2024-07-22T17:00:00.000000Z'\n",
    "    }, \n",
    "    {\n",
    "        'start': '2024-07-23T09:00:00.000000Z', \n",
    "        'end': '2024-07-23T12:30:00.000000Z'\n",
    "    }\n",
    "]"
   ]
  },
  {
   "cell_type": "code",
   "execution_count": 16,
   "metadata": {},
   "outputs": [
    {
     "name": "stdout",
     "output_type": "stream",
     "text": [
      "Duration 1: 5400.0 seconds\n",
      "Duration 2: 12600.0 seconds\n"
     ]
    }
   ],
   "source": [
    "for i, date in enumerate(dates):\n",
    "    start = datetime.fromisoformat(date['start'])\n",
    "    end = datetime.fromisoformat(date['end'])\n",
    "    duration = (end - start).total_seconds()\n",
    "    print(f\"Duration {i+1}: {duration} seconds\")"
   ]
  }
 ],
 "metadata": {
  "kernelspec": {
   "display_name": "Python 3",
   "language": "python",
   "name": "python3"
  },
  "language_info": {
   "codemirror_mode": {
    "name": "ipython",
    "version": 3
   },
   "file_extension": ".py",
   "mimetype": "text/x-python",
   "name": "python",
   "nbconvert_exporter": "python",
   "pygments_lexer": "ipython3",
   "version": "3.11.9"
  }
 },
 "nbformat": 4,
 "nbformat_minor": 2
}
