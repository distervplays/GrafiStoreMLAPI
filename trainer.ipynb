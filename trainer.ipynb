{
 "cells": [
  {
   "cell_type": "code",
   "execution_count": null,
   "metadata": {},
   "outputs": [],
   "source": [
    "%load_ext autoreload\n",
    "%autoreload 2"
   ]
  },
  {
   "cell_type": "code",
   "execution_count": 207,
   "metadata": {},
   "outputs": [],
   "source": [
    "from utils.DBUpdater import DBUpdater"
   ]
  },
  {
   "cell_type": "code",
   "execution_count": 208,
   "metadata": {},
   "outputs": [],
   "source": [
    "dbup = DBUpdater()\n",
    "dbup.update()"
   ]
  },
  {
   "cell_type": "markdown",
   "metadata": {},
   "source": [
    "# Data Formatting"
   ]
  },
  {
   "cell_type": "code",
   "execution_count": null,
   "metadata": {},
   "outputs": [],
   "source": [
    "from scipy.sparse import spmatrix\n",
    "import matplotlib.pyplot as plt\n",
    "from dotenv import load_dotenv\n",
    "from datetime import timedelta\n",
    "from datetime import datetime\n",
    "import pandas as pd\n",
    "import numpy as np\n",
    "import requests\n",
    "import json\n",
    "import os\n",
    "load_dotenv()"
   ]
  },
  {
   "cell_type": "code",
   "execution_count": 210,
   "metadata": {},
   "outputs": [],
   "source": [
    "from modules.database_tables.Orders import Orders\n",
    "from modules.database_tables.Products import Products\n",
    "from modules.database_tables.TaskCards import TaskCards"
   ]
  },
  {
   "cell_type": "code",
   "execution_count": 211,
   "metadata": {},
   "outputs": [],
   "source": [
    "username = os.getenv(\"mongodb_user\")\n",
    "password = os.getenv(\"mongodb_password\")"
   ]
  },
  {
   "cell_type": "code",
   "execution_count": 212,
   "metadata": {},
   "outputs": [],
   "source": [
    "orders_table = Orders(username, password)\n",
    "products_table = Products(username, password)\n",
    "taskcards_table = TaskCards(username, password)"
   ]
  },
  {
   "cell_type": "code",
   "execution_count": 213,
   "metadata": {},
   "outputs": [],
   "source": [
    "original_data = []\n",
    "for order in orders_table.get_orders():\n",
    "    product = products_table.find({\"order_id\": order[\"_id\"]})\n",
    "    tasks = taskcards_table.find_many({\"product_id\": product[\"_id\"]})\n",
    "    order[\"product\"] = product\n",
    "    order[\"product\"][\"task_cards\"] = tasks\n",
    "    \n",
    "    order.pop(\"_id\")\n",
    "    order['delivery_date'] = order['delivery_date'].strftime(\"%Y-%m-%dT%H:%M:%S.%fZ\")\n",
    "    order['order_created_at'] = order['order_created_at'].strftime(\"%Y-%m-%dT%H:%M:%S.%fZ\")\n",
    "    \n",
    "    order['product'].pop(\"_id\")\n",
    "    order['product'].pop(\"order_id\")\n",
    "    \n",
    "    for task in order['product']['task_cards']:\n",
    "        task.pop(\"_id\")\n",
    "        task.pop(\"product_id\")\n",
    "        task['task_time_start'] = task['task_time_start'].strftime(\"%Y-%m-%dT%H:%M:%S.%fZ\")\n",
    "        task['task_time_end'] = task['task_time_end'].strftime(\"%Y-%m-%dT%H:%M:%S.%fZ\")\n",
    "    \n",
    "    original_data.append(order)\n",
    "    \n",
    "json_data = json.dumps(original_data, indent=4)\n",
    "with open(\"output.json\", \"w\") as f:\n",
    "    f.write(json_data)"
   ]
  },
  {
   "cell_type": "markdown",
   "metadata": {},
   "source": [
    "Make splitted between days tasks one whole task_card"
   ]
  },
  {
   "cell_type": "code",
   "execution_count": null,
   "metadata": {},
   "outputs": [],
   "source": [
    "# data = original_data.copy()\n",
    "# for order in data:\n",
    "#     tasks: list[dict] = order['product']['task_cards']\n",
    "#     task_dupe_data = {}\n",
    "#     for task in tasks:\n",
    "#         sort_order = task['sort_order']\n",
    "#         if sort_order not in task_dupe_data:\n",
    "#             task_dupe_data[sort_order] = []\n",
    "#         task_dupe_data[sort_order].append(task)\n",
    "    \n",
    "#     task_dupe_data = {k: v for k, v in task_dupe_data.items() if len(v) > 1}\n",
    "#     for sort_order, duplicates in task_dupe_data.items():\n",
    "#         first_instance = duplicates[0]\n",
    "#         total_duration = sum(task['task_duration'] for task in duplicates)\n",
    "#         first_instance['task_duration'] = total_duration\n",
    "#         task_time_end = (datetime.strptime(first_instance['task_time_start'], \"%Y-%m-%dT%H:%M:%S.%fZ\") + timedelta(seconds=total_duration)).strftime(\"%Y-%m-%dT%H:%M:%S.%fZ\")\n",
    "#         first_instance['task_time_end'] = task_time_end\n",
    "        \n",
    "#         # Remove all duplicates from the tasks list\n",
    "#         for duplicate in duplicates:\n",
    "#             order['product']['task_cards'].remove(duplicate)\n",
    "        \n",
    "#         # Find the correct position to insert the merged task\n",
    "#         insert_index = 0\n",
    "#         for i, task in enumerate(order['product']['task_cards']):\n",
    "#             if task['sort_order'] > first_instance['sort_order']:\n",
    "#                 insert_index = i\n",
    "#                 break\n",
    "#         else:\n",
    "#             insert_index = len(order['product']['task_cards'])\n",
    "        \n",
    "\n",
    "#         # Insert the merged task\n",
    "#         order['product']['task_cards'].insert(insert_index, first_instance)\n",
    "        \n",
    "# json_data = json.dumps(data, indent=4)\n",
    "# with open(\"output_deduped.json\", \"w\") as f:\n",
    "#     f.write(json_data)\n"
   ]
  },
  {
   "cell_type": "code",
   "execution_count": 214,
   "metadata": {},
   "outputs": [],
   "source": [
    "def combine_duped_taskcards(taskcards: list[dict]) -> list[dict]:\n",
    "    task_dupe_data = {}\n",
    "    for task in tasks:\n",
    "        sort_order = task['sort_order']\n",
    "        if sort_order not in task_dupe_data:\n",
    "            task_dupe_data[sort_order] = []\n",
    "        task_dupe_data[sort_order].append(task)\n",
    "    \n",
    "    task_dupe_data = {k: v for k, v in task_dupe_data.items() if len(v) > 1}\n",
    "    for sort_order, duplicates in task_dupe_data.items():\n",
    "        first_instance = duplicates[0]\n",
    "        total_duration = sum(task['task_duration'] for task in duplicates)\n",
    "        first_instance['task_duration'] = total_duration\n",
    "        task_time_end = (datetime.strptime(first_instance['task_time_start'], \"%Y-%m-%dT%H:%M:%S.%fZ\") + timedelta(seconds=total_duration)).strftime(\"%Y-%m-%dT%H:%M:%S.%fZ\")\n",
    "        first_instance['task_time_end'] = task_time_end\n",
    "        \n",
    "        # Remove all duplicates from the tasks list\n",
    "        for duplicate in duplicates:\n",
    "            order['product']['task_cards'].remove(duplicate)\n",
    "        \n",
    "        # Find the correct position to insert the merged task\n",
    "        insert_index = 0\n",
    "        for i, task in enumerate(order['product']['task_cards']):\n",
    "            if task['sort_order'] > first_instance['sort_order']:\n",
    "                insert_index = i\n",
    "                break\n",
    "        else:\n",
    "            insert_index = len(order['product']['task_cards'])\n",
    "        \n",
    "\n",
    "        # Insert the merged task\n",
    "        taskcards.insert(insert_index, first_instance)\n",
    "        \n",
    "    return taskcards"
   ]
  },
  {
   "cell_type": "code",
   "execution_count": 215,
   "metadata": {},
   "outputs": [],
   "source": [
    "data = original_data.copy()\n",
    "for order in data:\n",
    "    tasks: list[dict] = order['product']['task_cards']\n",
    "    new_tasks: list[dict] = combine_duped_taskcards(tasks)\n",
    "    # order['product']['task_cards'] = new_tasks\n",
    "    \n",
    "json_data = json.dumps(data, indent=4)\n",
    "with open(\"output_deduped.json\", \"w\") as f:\n",
    "    f.write(json_data)"
   ]
  }
 ],
 "metadata": {
  "kernelspec": {
   "display_name": ".venv",
   "language": "python",
   "name": "python3"
  },
  "language_info": {
   "codemirror_mode": {
    "name": "ipython",
    "version": 3
   },
   "file_extension": ".py",
   "mimetype": "text/x-python",
   "name": "python",
   "nbconvert_exporter": "python",
   "pygments_lexer": "ipython3",
   "version": "3.11.9"
  }
 },
 "nbformat": 4,
 "nbformat_minor": 2
}
