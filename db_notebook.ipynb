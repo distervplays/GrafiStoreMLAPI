{
 "cells": [
  {
   "cell_type": "code",
   "execution_count": 1,
   "metadata": {},
   "outputs": [],
   "source": [
    "%load_ext autoreload\n",
    "%autoreload 2"
   ]
  },
  {
   "cell_type": "markdown",
   "metadata": {},
   "source": [
    "# Database Controller"
   ]
  },
  {
   "cell_type": "code",
   "execution_count": 2,
   "metadata": {},
   "outputs": [
    {
     "data": {
      "text/plain": [
       "True"
      ]
     },
     "execution_count": 2,
     "metadata": {},
     "output_type": "execute_result"
    }
   ],
   "source": [
    "from urllib.parse import urljoin\n",
    "from dotenv import load_dotenv\n",
    "from bson import ObjectId\n",
    "import pandas as pd\n",
    "import numpy as np\n",
    "import requests\n",
    "import json\n",
    "import os\n",
    "load_dotenv()"
   ]
  },
  {
   "cell_type": "code",
   "execution_count": 3,
   "metadata": {},
   "outputs": [],
   "source": [
    "class GSHubAPI:\n",
    "    def __init__(self) -> None:\n",
    "        self.domain: str = \"https://premo.gshub.nl/\"\n",
    "    \n",
    "    def learn_url(self, days_in_past: int) -> str:\n",
    "        return urljoin(self.domain, f\"api/dinand/learn/{days_in_past}\")\n",
    "    \n",
    "    @property\n",
    "    def play_url(self) -> str:\n",
    "        return urljoin(self.domain, \"api/dinand/play/\")"
   ]
  },
  {
   "cell_type": "code",
   "execution_count": 4,
   "metadata": {},
   "outputs": [
    {
     "data": {
      "text/plain": [
       "'https://premo.gshub.nl/api/dinand/learn/7000'"
      ]
     },
     "execution_count": 4,
     "metadata": {},
     "output_type": "execute_result"
    }
   ],
   "source": [
    "learn_url = GSHubAPI().learn_url(7000)\n",
    "learn_url"
   ]
  },
  {
   "cell_type": "code",
   "execution_count": 5,
   "metadata": {},
   "outputs": [],
   "source": [
    "from modules.database_tables import Database\n",
    "from modules.database_tables.Orders import Orders\n",
    "from modules.database_tables.Products import Products\n",
    "from modules.database_tables.TaskCards import TaskCards\n",
    "from modules.database_tables.ProductOperations import Operations"
   ]
  },
  {
   "cell_type": "code",
   "execution_count": 6,
   "metadata": {},
   "outputs": [],
   "source": [
    "username = os.getenv(\"mongodb_user\")\n",
    "password = os.getenv(\"mongodb_password\")"
   ]
  },
  {
   "cell_type": "code",
   "execution_count": 7,
   "metadata": {},
   "outputs": [],
   "source": [
    "db = Database(username, password)\n",
    "orders = Orders(username, password)\n",
    "products = Products(username, password)\n",
    "taskcards = TaskCards(username, password)\n",
    "operations = Operations(username, password)"
   ]
  },
  {
   "cell_type": "markdown",
   "metadata": {},
   "source": [
    "## Insert Order Data into Database"
   ]
  },
  {
   "cell_type": "code",
   "execution_count": 8,
   "metadata": {},
   "outputs": [
    {
     "data": {
      "text/plain": [
       "132"
      ]
     },
     "execution_count": 8,
     "metadata": {},
     "output_type": "execute_result"
    }
   ],
   "source": [
    "data = requests.get(learn_url).json()\n",
    "len(data)"
   ]
  },
  {
   "cell_type": "code",
   "execution_count": 9,
   "metadata": {},
   "outputs": [
    {
     "data": {
      "text/plain": [
       "{'ok': 1.0,\n",
       " '$clusterTime': {'clusterTime': Timestamp(1727789302, 25),\n",
       "  'signature': {'hash': b'h]\\x1f_P\\x9c\\xd9r\\x93q\\xa7\\x04\\xb2?\\xaa\\x95<1]p',\n",
       "   'keyId': 7376309071898476564}},\n",
       " 'operationTime': Timestamp(1727789302, 25)}"
      ]
     },
     "execution_count": 9,
     "metadata": {},
     "output_type": "execute_result"
    }
   ],
   "source": [
    "db.db.drop_collection('orders')\n",
    "db.db.drop_collection('products')\n",
    "db.db.drop_collection('task_cards')\n",
    "db.db.drop_collection('operations')"
   ]
  },
  {
   "cell_type": "code",
   "execution_count": 10,
   "metadata": {},
   "outputs": [],
   "source": [
    "orders_bulk = []\n",
    "products_bulk = []\n",
    "taskcards_bulk = []\n",
    "operations_bulk = []\n",
    "\n",
    "for order in data:\n",
    "    order_dict = {k: v for k, v in order.items() if k in ['order_id', 'delivery_date', 'order_created_at']}\n",
    "    if orders.find({'order_id': order_dict['order_id']}): continue\n",
    "    order_id = orders.insert(order_dict)\n",
    "    \n",
    "    for prod in order['products']:\n",
    "        products_dict = {k: v for k, v in prod.items() if k in ['material', 'color']}\n",
    "        products_dict['order_id'] = order_id\n",
    "        product_id = products.insert(products_dict)\n",
    "        \n",
    "        taskcards_arr: list = [{**taskcard, 'product_id': product_id} for taskcard in prod['task_cards']]\n",
    "        taskcards_bulk.extend(taskcards_arr)\n",
    "        \n",
    "        operations_arr = [{**operation, 'product_id': product_id} for operation in prod['product_operations']]\n",
    "        operations_bulk.extend(operations_arr)\n",
    "        \n",
    "\n",
    "# Bulk insert taskcards and operations\n",
    "if len(taskcards_bulk) > 0 and len(operations_bulk) > 0:\n",
    "    tk_ids: list[ObjectId] = taskcards.insert_many(taskcards_bulk)\n",
    "    op_ids: list[ObjectId] = operations.insert_many(operations_bulk)"
   ]
  }
 ],
 "metadata": {
  "kernelspec": {
   "display_name": "Python 3",
   "language": "python",
   "name": "python3"
  },
  "language_info": {
   "codemirror_mode": {
    "name": "ipython",
    "version": 3
   },
   "file_extension": ".py",
   "mimetype": "text/x-python",
   "name": "python",
   "nbconvert_exporter": "python",
   "pygments_lexer": "ipython3",
   "version": "3.11.9"
  }
 },
 "nbformat": 4,
 "nbformat_minor": 2
}
