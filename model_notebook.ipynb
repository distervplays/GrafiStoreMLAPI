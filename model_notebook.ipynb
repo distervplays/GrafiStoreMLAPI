{
 "cells": [
  {
   "cell_type": "code",
   "execution_count": null,
   "metadata": {},
   "outputs": [],
   "source": [
    "%load_ext autoreload\n",
    "%autoreload 2"
   ]
  },
  {
   "cell_type": "code",
   "execution_count": 39,
   "metadata": {},
   "outputs": [],
   "source": [
    "from utils.DBUtils import *\n",
    "DBUpdater().update()\n"
   ]
  },
  {
   "cell_type": "markdown",
   "metadata": {},
   "source": [
    "# Data Formatting"
   ]
  },
  {
   "cell_type": "code",
   "execution_count": null,
   "metadata": {},
   "outputs": [],
   "source": [
    "from urllib.parse import urljoin\n",
    "from dotenv import load_dotenv\n",
    "from utils.DataUtils import *\n",
    "from datetime import *\n",
    "from bson import ObjectId\n",
    "import pandas as pd\n",
    "import numpy as np\n",
    "import requests\n",
    "import random\n",
    "import torch\n",
    "import json\n",
    "import os\n",
    "load_dotenv()"
   ]
  },
  {
   "cell_type": "code",
   "execution_count": 41,
   "metadata": {},
   "outputs": [],
   "source": [
    "username = os.getenv(\"mongodb_user\")\n",
    "password = os.getenv(\"mongodb_password\")"
   ]
  },
  {
   "cell_type": "code",
   "execution_count": 42,
   "metadata": {},
   "outputs": [],
   "source": [
    "from modules.database_tables import Database\n",
    "from modules.database_tables.Orders import Orders\n",
    "from modules.database_tables.Products import Products\n",
    "from modules.database_tables.TaskCards import TaskCards\n",
    "from modules.database_tables.ProductOperations import Operations"
   ]
  },
  {
   "cell_type": "code",
   "execution_count": 43,
   "metadata": {},
   "outputs": [],
   "source": [
    "class GSHubAPI:\n",
    "    def __init__(self) -> None:\n",
    "        self.domain: str = \"https://premo.gshub.nl/\"\n",
    "    \n",
    "    def learn_url(self, days_in_past: int) -> str:\n",
    "        return urljoin(self.domain, f\"api/dinand/learn/{days_in_past}\")\n",
    "    \n",
    "    @property\n",
    "    def play_url(self) -> str:\n",
    "        return urljoin(self.domain, \"api/dinand/play/\")"
   ]
  },
  {
   "cell_type": "code",
   "execution_count": 44,
   "metadata": {},
   "outputs": [],
   "source": [
    "play_url = GSHubAPI().play_url"
   ]
  },
  {
   "cell_type": "code",
   "execution_count": 45,
   "metadata": {},
   "outputs": [],
   "source": [
    "db = Database(username, password)\n",
    "orders = Orders(username, password)\n",
    "products = Products(username, password)\n",
    "taskcards = TaskCards(username, password)\n",
    "operations = Operations(username, password)"
   ]
  },
  {
   "cell_type": "code",
   "execution_count": 46,
   "metadata": {},
   "outputs": [],
   "source": [
    "def safe_to_datetime(x):\n",
    "    try:\n",
    "        return pd.to_datetime(x, format='%Y-%m-%dT%H:%M:%S.%fZ')\n",
    "    except (ValueError, TypeError):\n",
    "        return x"
   ]
  },
  {
   "cell_type": "code",
   "execution_count": 47,
   "metadata": {},
   "outputs": [],
   "source": [
    "def safe_to_int(x):\n",
    "    try:\n",
    "        if isinstance(x, ObjectId):\n",
    "            return int(str(x), 16)\n",
    "        return int(x)\n",
    "    except (ValueError, TypeError):\n",
    "        return x"
   ]
  },
  {
   "cell_type": "code",
   "execution_count": 48,
   "metadata": {},
   "outputs": [],
   "source": [
    "data = json_from_database(orders, products, taskcards, operations)"
   ]
  },
  {
   "cell_type": "code",
   "execution_count": null,
   "metadata": {},
   "outputs": [],
   "source": [
    "df = flatten_orders(data)\n",
    "df.head()"
   ]
  },
  {
   "cell_type": "code",
   "execution_count": null,
   "metadata": {},
   "outputs": [],
   "source": [
    "df['time_util_delivery'] = df['delivery_date'] - df['start_at']\n",
    "df['time_util_delivery'] = df['time_util_delivery'].dt.total_seconds() / 3600\n",
    "df['duration_since_order_created'] = df['start_at'] - df['order_created_at']\n",
    "df['duration_since_order_created'] = df['duration_since_order_created'].dt.total_seconds() / 3600\n",
    "df.head()"
   ]
  },
  {
   "cell_type": "markdown",
   "metadata": {},
   "source": [
    "# Model"
   ]
  }
 ],
 "metadata": {
  "kernelspec": {
   "display_name": ".venv",
   "language": "python",
   "name": "python3"
  },
  "language_info": {
   "codemirror_mode": {
    "name": "ipython",
    "version": 3
   },
   "file_extension": ".py",
   "mimetype": "text/x-python",
   "name": "python",
   "nbconvert_exporter": "python",
   "pygments_lexer": "ipython3",
   "version": "3.11.9"
  }
 },
 "nbformat": 4,
 "nbformat_minor": 2
}
